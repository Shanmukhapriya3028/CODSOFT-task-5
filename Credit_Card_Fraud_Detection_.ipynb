{
  "nbformat": 4,
  "nbformat_minor": 0,
  "metadata": {
    "colab": {
      "provenance": []
    },
    "kernelspec": {
      "name": "python3",
      "display_name": "Python 3"
    },
    "language_info": {
      "name": "python"
    }
  },
  "cells": [
    {
      "cell_type": "code",
      "execution_count": null,
      "metadata": {
        "id": "Qm3ZAaTrZtts"
      },
      "outputs": [],
      "source": [
        "import numpy as np\n",
        "import pandas as pd\n",
        "import matplotlib.pyplot as plt\n",
        "import seaborn as sns"
      ]
    },
    {
      "cell_type": "code",
      "source": [
        "from sklearn.linear_model import LogisticRegression\n",
        "from sklearn.svm import SVC\n",
        "from sklearn.neighbors import KNeighborsClassifier\n",
        "from sklearn.tree import DecisionTreeClassifier\n",
        "from sklearn.ensemble import RandomForestClassifier\n"
      ],
      "metadata": {
        "id": "Vk3yUrraaBzq"
      },
      "execution_count": null,
      "outputs": []
    },
    {
      "cell_type": "code",
      "source": [
        "from sklearn.preprocessing import MinMaxScaler\n",
        "from sklearn.model_selection import train_test_split, RandomizedSearchCV, GridSearchCV\n",
        "from sklearn.model_selection  import cross_val_score\n",
        "from imblearn.over_sampling import SMOTE\n",
        "from sklearn.metrics import precision_score, recall_score, f1_score, mean_squared_error\n",
        "from sklearn.metrics import accuracy_score, classification_report, confusion_matrix\n",
        "from sklearn.cluster import KMeans"
      ],
      "metadata": {
        "id": "O8FyKhr7aKyj"
      },
      "execution_count": null,
      "outputs": []
    },
    {
      "cell_type": "code",
      "source": [
        "from tensorflow import keras\n",
        "from tensorflow.keras.models import Sequential\n",
        "from tensorflow.keras.layers import Dense,Dropout\n",
        "\n",
        "import warnings\n",
        "warnings.filterwarnings(\"ignore\")"
      ],
      "metadata": {
        "id": "snFhefQ-aOYZ"
      },
      "execution_count": null,
      "outputs": []
    },
    {
      "cell_type": "code",
      "source": [
        "data= pd.read_csv('/content/creditcard.csv')\n",
        "data"
      ],
      "metadata": {
        "colab": {
          "base_uri": "https://localhost:8080/",
          "height": 443
        },
        "id": "2LygiKp0aRln",
        "outputId": "7d41315f-f12d-474d-db26-1572d9b662b5"
      },
      "execution_count": null,
      "outputs": [
        {
          "output_type": "execute_result",
          "data": {
            "text/plain": [
              "      Time        V1        V2        V3        V4        V5        V6  \\\n",
              "0        0 -1.359807 -0.072781  2.536347  1.378155 -0.338321  0.462388   \n",
              "1        0  1.191857  0.266151  0.166480  0.448154  0.060018 -0.082361   \n",
              "2        1 -1.358354 -1.340163  1.773209  0.379780 -0.503198  1.800499   \n",
              "3        1 -0.966272 -0.185226  1.792993 -0.863291 -0.010309  1.247203   \n",
              "4        2 -1.158233  0.877737  1.548718  0.403034 -0.407193  0.095921   \n",
              "...    ...       ...       ...       ...       ...       ...       ...   \n",
              "5843  6339 -2.262193  2.436048 -1.230114 -1.257178  1.999487  3.164989   \n",
              "5844  6340 -1.134217  0.166310  1.306848  1.667260 -0.570757  0.814229   \n",
              "5845  6345 -0.865862  0.295617  3.940337  3.606141 -0.672490  1.242731   \n",
              "5846  6345  1.203971  0.927268  0.041463  1.669881 -0.007861 -1.477041   \n",
              "5847  6347  1.122792 -0.064138  1.035259  1.775286 -0.649522  0.282818   \n",
              "\n",
              "            V7        V8        V9  ...       V21       V22       V23  \\\n",
              "0     0.239599  0.098698  0.363787  ... -0.018307  0.277838 -0.110474   \n",
              "1    -0.078803  0.085102 -0.255425  ... -0.225775 -0.638672  0.101288   \n",
              "2     0.791461  0.247676 -1.514654  ...  0.247998  0.771679  0.909412   \n",
              "3     0.237609  0.377436 -1.387024  ... -0.108300  0.005274 -0.190321   \n",
              "4     0.592941 -0.270533  0.817739  ... -0.009431  0.798278 -0.137458   \n",
              "...        ...       ...       ...  ...       ...       ...       ...   \n",
              "5843 -0.326910  1.328598  2.010502  ... -0.731751 -1.249195  0.056359   \n",
              "5844  2.103197 -0.383550  0.271516  ... -0.153814 -0.043290  0.669085   \n",
              "5845 -0.897963  0.364253  1.896719  ... -0.090057  0.610083 -0.276843   \n",
              "5846  0.300909 -0.418894  1.000914  ... -0.171369 -0.125577 -0.058487   \n",
              "5847 -0.613878  0.206216  2.458567  ... -0.259434 -0.220765 -0.033708   \n",
              "\n",
              "           V24       V25       V26       V27       V28  Amount  Class  \n",
              "0     0.066928  0.128539 -0.189115  0.133558 -0.021053  149.62    0.0  \n",
              "1    -0.339846  0.167170  0.125895 -0.008983  0.014724    2.69    0.0  \n",
              "2    -0.689281 -0.327642 -0.139097 -0.055353 -0.059752  378.66    0.0  \n",
              "3    -1.175575  0.647376 -0.221929  0.062723  0.061458  123.50    0.0  \n",
              "4     0.141267 -0.206010  0.502292  0.219422  0.215153   69.99    0.0  \n",
              "...        ...       ...       ...       ...       ...     ...    ...  \n",
              "5843  0.847677  0.249961 -0.028339 -0.172882 -0.635326    1.98    0.0  \n",
              "5844 -0.108929 -0.698489 -0.466839  0.030775 -0.161917  379.63    0.0  \n",
              "5845  0.387543  0.185369  0.486753  0.210990 -0.056815   21.48    0.0  \n",
              "5846  0.751805  0.632035 -0.402436  0.015976  0.058703    1.00    0.0  \n",
              "5847 -0.005861  0.523800       NaN       NaN       NaN     NaN    NaN  \n",
              "\n",
              "[5848 rows x 31 columns]"
            ],
            "text/html": [
              "\n",
              "  <div id=\"df-a458acbb-9bc8-4fe9-9dad-8883fb0a69d6\" class=\"colab-df-container\">\n",
              "    <div>\n",
              "<style scoped>\n",
              "    .dataframe tbody tr th:only-of-type {\n",
              "        vertical-align: middle;\n",
              "    }\n",
              "\n",
              "    .dataframe tbody tr th {\n",
              "        vertical-align: top;\n",
              "    }\n",
              "\n",
              "    .dataframe thead th {\n",
              "        text-align: right;\n",
              "    }\n",
              "</style>\n",
              "<table border=\"1\" class=\"dataframe\">\n",
              "  <thead>\n",
              "    <tr style=\"text-align: right;\">\n",
              "      <th></th>\n",
              "      <th>Time</th>\n",
              "      <th>V1</th>\n",
              "      <th>V2</th>\n",
              "      <th>V3</th>\n",
              "      <th>V4</th>\n",
              "      <th>V5</th>\n",
              "      <th>V6</th>\n",
              "      <th>V7</th>\n",
              "      <th>V8</th>\n",
              "      <th>V9</th>\n",
              "      <th>...</th>\n",
              "      <th>V21</th>\n",
              "      <th>V22</th>\n",
              "      <th>V23</th>\n",
              "      <th>V24</th>\n",
              "      <th>V25</th>\n",
              "      <th>V26</th>\n",
              "      <th>V27</th>\n",
              "      <th>V28</th>\n",
              "      <th>Amount</th>\n",
              "      <th>Class</th>\n",
              "    </tr>\n",
              "  </thead>\n",
              "  <tbody>\n",
              "    <tr>\n",
              "      <th>0</th>\n",
              "      <td>0</td>\n",
              "      <td>-1.359807</td>\n",
              "      <td>-0.072781</td>\n",
              "      <td>2.536347</td>\n",
              "      <td>1.378155</td>\n",
              "      <td>-0.338321</td>\n",
              "      <td>0.462388</td>\n",
              "      <td>0.239599</td>\n",
              "      <td>0.098698</td>\n",
              "      <td>0.363787</td>\n",
              "      <td>...</td>\n",
              "      <td>-0.018307</td>\n",
              "      <td>0.277838</td>\n",
              "      <td>-0.110474</td>\n",
              "      <td>0.066928</td>\n",
              "      <td>0.128539</td>\n",
              "      <td>-0.189115</td>\n",
              "      <td>0.133558</td>\n",
              "      <td>-0.021053</td>\n",
              "      <td>149.62</td>\n",
              "      <td>0.0</td>\n",
              "    </tr>\n",
              "    <tr>\n",
              "      <th>1</th>\n",
              "      <td>0</td>\n",
              "      <td>1.191857</td>\n",
              "      <td>0.266151</td>\n",
              "      <td>0.166480</td>\n",
              "      <td>0.448154</td>\n",
              "      <td>0.060018</td>\n",
              "      <td>-0.082361</td>\n",
              "      <td>-0.078803</td>\n",
              "      <td>0.085102</td>\n",
              "      <td>-0.255425</td>\n",
              "      <td>...</td>\n",
              "      <td>-0.225775</td>\n",
              "      <td>-0.638672</td>\n",
              "      <td>0.101288</td>\n",
              "      <td>-0.339846</td>\n",
              "      <td>0.167170</td>\n",
              "      <td>0.125895</td>\n",
              "      <td>-0.008983</td>\n",
              "      <td>0.014724</td>\n",
              "      <td>2.69</td>\n",
              "      <td>0.0</td>\n",
              "    </tr>\n",
              "    <tr>\n",
              "      <th>2</th>\n",
              "      <td>1</td>\n",
              "      <td>-1.358354</td>\n",
              "      <td>-1.340163</td>\n",
              "      <td>1.773209</td>\n",
              "      <td>0.379780</td>\n",
              "      <td>-0.503198</td>\n",
              "      <td>1.800499</td>\n",
              "      <td>0.791461</td>\n",
              "      <td>0.247676</td>\n",
              "      <td>-1.514654</td>\n",
              "      <td>...</td>\n",
              "      <td>0.247998</td>\n",
              "      <td>0.771679</td>\n",
              "      <td>0.909412</td>\n",
              "      <td>-0.689281</td>\n",
              "      <td>-0.327642</td>\n",
              "      <td>-0.139097</td>\n",
              "      <td>-0.055353</td>\n",
              "      <td>-0.059752</td>\n",
              "      <td>378.66</td>\n",
              "      <td>0.0</td>\n",
              "    </tr>\n",
              "    <tr>\n",
              "      <th>3</th>\n",
              "      <td>1</td>\n",
              "      <td>-0.966272</td>\n",
              "      <td>-0.185226</td>\n",
              "      <td>1.792993</td>\n",
              "      <td>-0.863291</td>\n",
              "      <td>-0.010309</td>\n",
              "      <td>1.247203</td>\n",
              "      <td>0.237609</td>\n",
              "      <td>0.377436</td>\n",
              "      <td>-1.387024</td>\n",
              "      <td>...</td>\n",
              "      <td>-0.108300</td>\n",
              "      <td>0.005274</td>\n",
              "      <td>-0.190321</td>\n",
              "      <td>-1.175575</td>\n",
              "      <td>0.647376</td>\n",
              "      <td>-0.221929</td>\n",
              "      <td>0.062723</td>\n",
              "      <td>0.061458</td>\n",
              "      <td>123.50</td>\n",
              "      <td>0.0</td>\n",
              "    </tr>\n",
              "    <tr>\n",
              "      <th>4</th>\n",
              "      <td>2</td>\n",
              "      <td>-1.158233</td>\n",
              "      <td>0.877737</td>\n",
              "      <td>1.548718</td>\n",
              "      <td>0.403034</td>\n",
              "      <td>-0.407193</td>\n",
              "      <td>0.095921</td>\n",
              "      <td>0.592941</td>\n",
              "      <td>-0.270533</td>\n",
              "      <td>0.817739</td>\n",
              "      <td>...</td>\n",
              "      <td>-0.009431</td>\n",
              "      <td>0.798278</td>\n",
              "      <td>-0.137458</td>\n",
              "      <td>0.141267</td>\n",
              "      <td>-0.206010</td>\n",
              "      <td>0.502292</td>\n",
              "      <td>0.219422</td>\n",
              "      <td>0.215153</td>\n",
              "      <td>69.99</td>\n",
              "      <td>0.0</td>\n",
              "    </tr>\n",
              "    <tr>\n",
              "      <th>...</th>\n",
              "      <td>...</td>\n",
              "      <td>...</td>\n",
              "      <td>...</td>\n",
              "      <td>...</td>\n",
              "      <td>...</td>\n",
              "      <td>...</td>\n",
              "      <td>...</td>\n",
              "      <td>...</td>\n",
              "      <td>...</td>\n",
              "      <td>...</td>\n",
              "      <td>...</td>\n",
              "      <td>...</td>\n",
              "      <td>...</td>\n",
              "      <td>...</td>\n",
              "      <td>...</td>\n",
              "      <td>...</td>\n",
              "      <td>...</td>\n",
              "      <td>...</td>\n",
              "      <td>...</td>\n",
              "      <td>...</td>\n",
              "      <td>...</td>\n",
              "    </tr>\n",
              "    <tr>\n",
              "      <th>5843</th>\n",
              "      <td>6339</td>\n",
              "      <td>-2.262193</td>\n",
              "      <td>2.436048</td>\n",
              "      <td>-1.230114</td>\n",
              "      <td>-1.257178</td>\n",
              "      <td>1.999487</td>\n",
              "      <td>3.164989</td>\n",
              "      <td>-0.326910</td>\n",
              "      <td>1.328598</td>\n",
              "      <td>2.010502</td>\n",
              "      <td>...</td>\n",
              "      <td>-0.731751</td>\n",
              "      <td>-1.249195</td>\n",
              "      <td>0.056359</td>\n",
              "      <td>0.847677</td>\n",
              "      <td>0.249961</td>\n",
              "      <td>-0.028339</td>\n",
              "      <td>-0.172882</td>\n",
              "      <td>-0.635326</td>\n",
              "      <td>1.98</td>\n",
              "      <td>0.0</td>\n",
              "    </tr>\n",
              "    <tr>\n",
              "      <th>5844</th>\n",
              "      <td>6340</td>\n",
              "      <td>-1.134217</td>\n",
              "      <td>0.166310</td>\n",
              "      <td>1.306848</td>\n",
              "      <td>1.667260</td>\n",
              "      <td>-0.570757</td>\n",
              "      <td>0.814229</td>\n",
              "      <td>2.103197</td>\n",
              "      <td>-0.383550</td>\n",
              "      <td>0.271516</td>\n",
              "      <td>...</td>\n",
              "      <td>-0.153814</td>\n",
              "      <td>-0.043290</td>\n",
              "      <td>0.669085</td>\n",
              "      <td>-0.108929</td>\n",
              "      <td>-0.698489</td>\n",
              "      <td>-0.466839</td>\n",
              "      <td>0.030775</td>\n",
              "      <td>-0.161917</td>\n",
              "      <td>379.63</td>\n",
              "      <td>0.0</td>\n",
              "    </tr>\n",
              "    <tr>\n",
              "      <th>5845</th>\n",
              "      <td>6345</td>\n",
              "      <td>-0.865862</td>\n",
              "      <td>0.295617</td>\n",
              "      <td>3.940337</td>\n",
              "      <td>3.606141</td>\n",
              "      <td>-0.672490</td>\n",
              "      <td>1.242731</td>\n",
              "      <td>-0.897963</td>\n",
              "      <td>0.364253</td>\n",
              "      <td>1.896719</td>\n",
              "      <td>...</td>\n",
              "      <td>-0.090057</td>\n",
              "      <td>0.610083</td>\n",
              "      <td>-0.276843</td>\n",
              "      <td>0.387543</td>\n",
              "      <td>0.185369</td>\n",
              "      <td>0.486753</td>\n",
              "      <td>0.210990</td>\n",
              "      <td>-0.056815</td>\n",
              "      <td>21.48</td>\n",
              "      <td>0.0</td>\n",
              "    </tr>\n",
              "    <tr>\n",
              "      <th>5846</th>\n",
              "      <td>6345</td>\n",
              "      <td>1.203971</td>\n",
              "      <td>0.927268</td>\n",
              "      <td>0.041463</td>\n",
              "      <td>1.669881</td>\n",
              "      <td>-0.007861</td>\n",
              "      <td>-1.477041</td>\n",
              "      <td>0.300909</td>\n",
              "      <td>-0.418894</td>\n",
              "      <td>1.000914</td>\n",
              "      <td>...</td>\n",
              "      <td>-0.171369</td>\n",
              "      <td>-0.125577</td>\n",
              "      <td>-0.058487</td>\n",
              "      <td>0.751805</td>\n",
              "      <td>0.632035</td>\n",
              "      <td>-0.402436</td>\n",
              "      <td>0.015976</td>\n",
              "      <td>0.058703</td>\n",
              "      <td>1.00</td>\n",
              "      <td>0.0</td>\n",
              "    </tr>\n",
              "    <tr>\n",
              "      <th>5847</th>\n",
              "      <td>6347</td>\n",
              "      <td>1.122792</td>\n",
              "      <td>-0.064138</td>\n",
              "      <td>1.035259</td>\n",
              "      <td>1.775286</td>\n",
              "      <td>-0.649522</td>\n",
              "      <td>0.282818</td>\n",
              "      <td>-0.613878</td>\n",
              "      <td>0.206216</td>\n",
              "      <td>2.458567</td>\n",
              "      <td>...</td>\n",
              "      <td>-0.259434</td>\n",
              "      <td>-0.220765</td>\n",
              "      <td>-0.033708</td>\n",
              "      <td>-0.005861</td>\n",
              "      <td>0.523800</td>\n",
              "      <td>NaN</td>\n",
              "      <td>NaN</td>\n",
              "      <td>NaN</td>\n",
              "      <td>NaN</td>\n",
              "      <td>NaN</td>\n",
              "    </tr>\n",
              "  </tbody>\n",
              "</table>\n",
              "<p>5848 rows × 31 columns</p>\n",
              "</div>\n",
              "    <div class=\"colab-df-buttons\">\n",
              "\n",
              "  <div class=\"colab-df-container\">\n",
              "    <button class=\"colab-df-convert\" onclick=\"convertToInteractive('df-a458acbb-9bc8-4fe9-9dad-8883fb0a69d6')\"\n",
              "            title=\"Convert this dataframe to an interactive table.\"\n",
              "            style=\"display:none;\">\n",
              "\n",
              "  <svg xmlns=\"http://www.w3.org/2000/svg\" height=\"24px\" viewBox=\"0 -960 960 960\">\n",
              "    <path d=\"M120-120v-720h720v720H120Zm60-500h600v-160H180v160Zm220 220h160v-160H400v160Zm0 220h160v-160H400v160ZM180-400h160v-160H180v160Zm440 0h160v-160H620v160ZM180-180h160v-160H180v160Zm440 0h160v-160H620v160Z\"/>\n",
              "  </svg>\n",
              "    </button>\n",
              "\n",
              "  <style>\n",
              "    .colab-df-container {\n",
              "      display:flex;\n",
              "      gap: 12px;\n",
              "    }\n",
              "\n",
              "    .colab-df-convert {\n",
              "      background-color: #E8F0FE;\n",
              "      border: none;\n",
              "      border-radius: 50%;\n",
              "      cursor: pointer;\n",
              "      display: none;\n",
              "      fill: #1967D2;\n",
              "      height: 32px;\n",
              "      padding: 0 0 0 0;\n",
              "      width: 32px;\n",
              "    }\n",
              "\n",
              "    .colab-df-convert:hover {\n",
              "      background-color: #E2EBFA;\n",
              "      box-shadow: 0px 1px 2px rgba(60, 64, 67, 0.3), 0px 1px 3px 1px rgba(60, 64, 67, 0.15);\n",
              "      fill: #174EA6;\n",
              "    }\n",
              "\n",
              "    .colab-df-buttons div {\n",
              "      margin-bottom: 4px;\n",
              "    }\n",
              "\n",
              "    [theme=dark] .colab-df-convert {\n",
              "      background-color: #3B4455;\n",
              "      fill: #D2E3FC;\n",
              "    }\n",
              "\n",
              "    [theme=dark] .colab-df-convert:hover {\n",
              "      background-color: #434B5C;\n",
              "      box-shadow: 0px 1px 3px 1px rgba(0, 0, 0, 0.15);\n",
              "      filter: drop-shadow(0px 1px 2px rgba(0, 0, 0, 0.3));\n",
              "      fill: #FFFFFF;\n",
              "    }\n",
              "  </style>\n",
              "\n",
              "    <script>\n",
              "      const buttonEl =\n",
              "        document.querySelector('#df-a458acbb-9bc8-4fe9-9dad-8883fb0a69d6 button.colab-df-convert');\n",
              "      buttonEl.style.display =\n",
              "        google.colab.kernel.accessAllowed ? 'block' : 'none';\n",
              "\n",
              "      async function convertToInteractive(key) {\n",
              "        const element = document.querySelector('#df-a458acbb-9bc8-4fe9-9dad-8883fb0a69d6');\n",
              "        const dataTable =\n",
              "          await google.colab.kernel.invokeFunction('convertToInteractive',\n",
              "                                                    [key], {});\n",
              "        if (!dataTable) return;\n",
              "\n",
              "        const docLinkHtml = 'Like what you see? Visit the ' +\n",
              "          '<a target=\"_blank\" href=https://colab.research.google.com/notebooks/data_table.ipynb>data table notebook</a>'\n",
              "          + ' to learn more about interactive tables.';\n",
              "        element.innerHTML = '';\n",
              "        dataTable['output_type'] = 'display_data';\n",
              "        await google.colab.output.renderOutput(dataTable, element);\n",
              "        const docLink = document.createElement('div');\n",
              "        docLink.innerHTML = docLinkHtml;\n",
              "        element.appendChild(docLink);\n",
              "      }\n",
              "    </script>\n",
              "  </div>\n",
              "\n",
              "\n",
              "<div id=\"df-c68601bc-f19f-43f6-bcfd-439aff10a6b5\">\n",
              "  <button class=\"colab-df-quickchart\" onclick=\"quickchart('df-c68601bc-f19f-43f6-bcfd-439aff10a6b5')\"\n",
              "            title=\"Suggest charts\"\n",
              "            style=\"display:none;\">\n",
              "\n",
              "<svg xmlns=\"http://www.w3.org/2000/svg\" height=\"24px\"viewBox=\"0 0 24 24\"\n",
              "     width=\"24px\">\n",
              "    <g>\n",
              "        <path d=\"M19 3H5c-1.1 0-2 .9-2 2v14c0 1.1.9 2 2 2h14c1.1 0 2-.9 2-2V5c0-1.1-.9-2-2-2zM9 17H7v-7h2v7zm4 0h-2V7h2v10zm4 0h-2v-4h2v4z\"/>\n",
              "    </g>\n",
              "</svg>\n",
              "  </button>\n",
              "\n",
              "<style>\n",
              "  .colab-df-quickchart {\n",
              "      --bg-color: #E8F0FE;\n",
              "      --fill-color: #1967D2;\n",
              "      --hover-bg-color: #E2EBFA;\n",
              "      --hover-fill-color: #174EA6;\n",
              "      --disabled-fill-color: #AAA;\n",
              "      --disabled-bg-color: #DDD;\n",
              "  }\n",
              "\n",
              "  [theme=dark] .colab-df-quickchart {\n",
              "      --bg-color: #3B4455;\n",
              "      --fill-color: #D2E3FC;\n",
              "      --hover-bg-color: #434B5C;\n",
              "      --hover-fill-color: #FFFFFF;\n",
              "      --disabled-bg-color: #3B4455;\n",
              "      --disabled-fill-color: #666;\n",
              "  }\n",
              "\n",
              "  .colab-df-quickchart {\n",
              "    background-color: var(--bg-color);\n",
              "    border: none;\n",
              "    border-radius: 50%;\n",
              "    cursor: pointer;\n",
              "    display: none;\n",
              "    fill: var(--fill-color);\n",
              "    height: 32px;\n",
              "    padding: 0;\n",
              "    width: 32px;\n",
              "  }\n",
              "\n",
              "  .colab-df-quickchart:hover {\n",
              "    background-color: var(--hover-bg-color);\n",
              "    box-shadow: 0 1px 2px rgba(60, 64, 67, 0.3), 0 1px 3px 1px rgba(60, 64, 67, 0.15);\n",
              "    fill: var(--button-hover-fill-color);\n",
              "  }\n",
              "\n",
              "  .colab-df-quickchart-complete:disabled,\n",
              "  .colab-df-quickchart-complete:disabled:hover {\n",
              "    background-color: var(--disabled-bg-color);\n",
              "    fill: var(--disabled-fill-color);\n",
              "    box-shadow: none;\n",
              "  }\n",
              "\n",
              "  .colab-df-spinner {\n",
              "    border: 2px solid var(--fill-color);\n",
              "    border-color: transparent;\n",
              "    border-bottom-color: var(--fill-color);\n",
              "    animation:\n",
              "      spin 1s steps(1) infinite;\n",
              "  }\n",
              "\n",
              "  @keyframes spin {\n",
              "    0% {\n",
              "      border-color: transparent;\n",
              "      border-bottom-color: var(--fill-color);\n",
              "      border-left-color: var(--fill-color);\n",
              "    }\n",
              "    20% {\n",
              "      border-color: transparent;\n",
              "      border-left-color: var(--fill-color);\n",
              "      border-top-color: var(--fill-color);\n",
              "    }\n",
              "    30% {\n",
              "      border-color: transparent;\n",
              "      border-left-color: var(--fill-color);\n",
              "      border-top-color: var(--fill-color);\n",
              "      border-right-color: var(--fill-color);\n",
              "    }\n",
              "    40% {\n",
              "      border-color: transparent;\n",
              "      border-right-color: var(--fill-color);\n",
              "      border-top-color: var(--fill-color);\n",
              "    }\n",
              "    60% {\n",
              "      border-color: transparent;\n",
              "      border-right-color: var(--fill-color);\n",
              "    }\n",
              "    80% {\n",
              "      border-color: transparent;\n",
              "      border-right-color: var(--fill-color);\n",
              "      border-bottom-color: var(--fill-color);\n",
              "    }\n",
              "    90% {\n",
              "      border-color: transparent;\n",
              "      border-bottom-color: var(--fill-color);\n",
              "    }\n",
              "  }\n",
              "</style>\n",
              "\n",
              "  <script>\n",
              "    async function quickchart(key) {\n",
              "      const quickchartButtonEl =\n",
              "        document.querySelector('#' + key + ' button');\n",
              "      quickchartButtonEl.disabled = true;  // To prevent multiple clicks.\n",
              "      quickchartButtonEl.classList.add('colab-df-spinner');\n",
              "      try {\n",
              "        const charts = await google.colab.kernel.invokeFunction(\n",
              "            'suggestCharts', [key], {});\n",
              "      } catch (error) {\n",
              "        console.error('Error during call to suggestCharts:', error);\n",
              "      }\n",
              "      quickchartButtonEl.classList.remove('colab-df-spinner');\n",
              "      quickchartButtonEl.classList.add('colab-df-quickchart-complete');\n",
              "    }\n",
              "    (() => {\n",
              "      let quickchartButtonEl =\n",
              "        document.querySelector('#df-c68601bc-f19f-43f6-bcfd-439aff10a6b5 button');\n",
              "      quickchartButtonEl.style.display =\n",
              "        google.colab.kernel.accessAllowed ? 'block' : 'none';\n",
              "    })();\n",
              "  </script>\n",
              "</div>\n",
              "\n",
              "  <div id=\"id_8d6ede1d-f0a4-44ea-9c36-9790c2b546e2\">\n",
              "    <style>\n",
              "      .colab-df-generate {\n",
              "        background-color: #E8F0FE;\n",
              "        border: none;\n",
              "        border-radius: 50%;\n",
              "        cursor: pointer;\n",
              "        display: none;\n",
              "        fill: #1967D2;\n",
              "        height: 32px;\n",
              "        padding: 0 0 0 0;\n",
              "        width: 32px;\n",
              "      }\n",
              "\n",
              "      .colab-df-generate:hover {\n",
              "        background-color: #E2EBFA;\n",
              "        box-shadow: 0px 1px 2px rgba(60, 64, 67, 0.3), 0px 1px 3px 1px rgba(60, 64, 67, 0.15);\n",
              "        fill: #174EA6;\n",
              "      }\n",
              "\n",
              "      [theme=dark] .colab-df-generate {\n",
              "        background-color: #3B4455;\n",
              "        fill: #D2E3FC;\n",
              "      }\n",
              "\n",
              "      [theme=dark] .colab-df-generate:hover {\n",
              "        background-color: #434B5C;\n",
              "        box-shadow: 0px 1px 3px 1px rgba(0, 0, 0, 0.15);\n",
              "        filter: drop-shadow(0px 1px 2px rgba(0, 0, 0, 0.3));\n",
              "        fill: #FFFFFF;\n",
              "      }\n",
              "    </style>\n",
              "    <button class=\"colab-df-generate\" onclick=\"generateWithVariable('data')\"\n",
              "            title=\"Generate code using this dataframe.\"\n",
              "            style=\"display:none;\">\n",
              "\n",
              "  <svg xmlns=\"http://www.w3.org/2000/svg\" height=\"24px\"viewBox=\"0 0 24 24\"\n",
              "       width=\"24px\">\n",
              "    <path d=\"M7,19H8.4L18.45,9,17,7.55,7,17.6ZM5,21V16.75L18.45,3.32a2,2,0,0,1,2.83,0l1.4,1.43a1.91,1.91,0,0,1,.58,1.4,1.91,1.91,0,0,1-.58,1.4L9.25,21ZM18.45,9,17,7.55Zm-12,3A5.31,5.31,0,0,0,4.9,8.1,5.31,5.31,0,0,0,1,6.5,5.31,5.31,0,0,0,4.9,4.9,5.31,5.31,0,0,0,6.5,1,5.31,5.31,0,0,0,8.1,4.9,5.31,5.31,0,0,0,12,6.5,5.46,5.46,0,0,0,6.5,12Z\"/>\n",
              "  </svg>\n",
              "    </button>\n",
              "    <script>\n",
              "      (() => {\n",
              "      const buttonEl =\n",
              "        document.querySelector('#id_8d6ede1d-f0a4-44ea-9c36-9790c2b546e2 button.colab-df-generate');\n",
              "      buttonEl.style.display =\n",
              "        google.colab.kernel.accessAllowed ? 'block' : 'none';\n",
              "\n",
              "      buttonEl.onclick = () => {\n",
              "        google.colab.notebook.generateWithVariable('data');\n",
              "      }\n",
              "      })();\n",
              "    </script>\n",
              "  </div>\n",
              "\n",
              "    </div>\n",
              "  </div>\n"
            ],
            "application/vnd.google.colaboratory.intrinsic+json": {
              "type": "dataframe",
              "variable_name": "data"
            }
          },
          "metadata": {},
          "execution_count": 7
        }
      ]
    },
    {
      "cell_type": "code",
      "source": [
        "data.describe()"
      ],
      "metadata": {
        "colab": {
          "base_uri": "https://localhost:8080/",
          "height": 349
        },
        "id": "G6PhiK-VbbdI",
        "outputId": "b27a49a3-a862-45bc-9127-560d17a40775"
      },
      "execution_count": null,
      "outputs": [
        {
          "output_type": "execute_result",
          "data": {
            "text/plain": [
              "              Time           V1           V2           V3           V4  \\\n",
              "count  5848.000000  5848.000000  5848.000000  5848.000000  5848.000000   \n",
              "mean   2595.367818    -0.261963     0.280725     0.843124     0.089948   \n",
              "std    1691.596663     1.393228     1.206192     1.024822     1.439625   \n",
              "min       0.000000   -12.168192   -15.732974   -12.389545    -4.657545   \n",
              "25%    1135.750000    -1.012439    -0.286978     0.294467    -0.853598   \n",
              "50%    2471.000000    -0.416942     0.343869     0.879825     0.147118   \n",
              "75%    3766.000000     1.116368     0.935619     1.497673     1.057136   \n",
              "max    6347.000000     1.685314     7.467017     4.101716     6.013346   \n",
              "\n",
              "                V5           V6           V7           V8           V9  ...  \\\n",
              "count  5848.000000  5848.000000  5848.000000  5848.000000  5848.000000  ...   \n",
              "mean     -0.003169     0.187788     0.019107    -0.041914     0.381580  ...   \n",
              "std       1.186223     1.359345     1.062982     1.312675     1.044403  ...   \n",
              "min     -32.092129    -7.465603   -12.968670   -23.632502    -3.336805  ...   \n",
              "25%      -0.609305    -0.681349    -0.490755    -0.190603    -0.271732  ...   \n",
              "50%      -0.087533    -0.150866     0.044800     0.037795     0.358471  ...   \n",
              "75%       0.433545     0.599556     0.567276     0.340562     0.938599  ...   \n",
              "max      10.658654    21.393069    34.303177     3.877662     9.272376  ...   \n",
              "\n",
              "               V21          V22          V23          V24          V25  \\\n",
              "count  5848.000000  5848.000000  5848.000000  5848.000000  5848.000000   \n",
              "mean     -0.040136    -0.161438    -0.037555     0.028896     0.089814   \n",
              "std       0.890170     0.647772     0.373349     0.619732     0.406480   \n",
              "min     -11.468435    -8.454599    -7.996811    -2.512377    -2.322906   \n",
              "25%      -0.258474    -0.594663    -0.187441    -0.348045    -0.151126   \n",
              "50%      -0.109719    -0.177561    -0.047120     0.095822     0.106658   \n",
              "75%       0.062022     0.273355     0.087544     0.436471     0.354969   \n",
              "max      22.580675     4.393846     4.095021     3.200201     1.972515   \n",
              "\n",
              "               V26          V27          V28       Amount        Class  \n",
              "count  5847.000000  5847.000000  5847.000000  5847.000000  5847.000000  \n",
              "mean     -0.039693     0.026793     0.005637    65.100371     0.000513  \n",
              "std       0.489281     0.359668     0.258698   193.465557     0.022647  \n",
              "min      -1.338556    -7.976100    -2.909294     0.000000     0.000000  \n",
              "25%      -0.400366    -0.049389    -0.017702     4.395000     0.000000  \n",
              "50%      -0.078699     0.016448     0.019429    15.690000     0.000000  \n",
              "75%       0.249251     0.156264     0.082578    56.705000     0.000000  \n",
              "max       3.463246     3.852046     4.860769  7712.430000     1.000000  \n",
              "\n",
              "[8 rows x 31 columns]"
            ],
            "text/html": [
              "\n",
              "  <div id=\"df-0018042e-805b-447a-927c-ccacbdfbe05a\" class=\"colab-df-container\">\n",
              "    <div>\n",
              "<style scoped>\n",
              "    .dataframe tbody tr th:only-of-type {\n",
              "        vertical-align: middle;\n",
              "    }\n",
              "\n",
              "    .dataframe tbody tr th {\n",
              "        vertical-align: top;\n",
              "    }\n",
              "\n",
              "    .dataframe thead th {\n",
              "        text-align: right;\n",
              "    }\n",
              "</style>\n",
              "<table border=\"1\" class=\"dataframe\">\n",
              "  <thead>\n",
              "    <tr style=\"text-align: right;\">\n",
              "      <th></th>\n",
              "      <th>Time</th>\n",
              "      <th>V1</th>\n",
              "      <th>V2</th>\n",
              "      <th>V3</th>\n",
              "      <th>V4</th>\n",
              "      <th>V5</th>\n",
              "      <th>V6</th>\n",
              "      <th>V7</th>\n",
              "      <th>V8</th>\n",
              "      <th>V9</th>\n",
              "      <th>...</th>\n",
              "      <th>V21</th>\n",
              "      <th>V22</th>\n",
              "      <th>V23</th>\n",
              "      <th>V24</th>\n",
              "      <th>V25</th>\n",
              "      <th>V26</th>\n",
              "      <th>V27</th>\n",
              "      <th>V28</th>\n",
              "      <th>Amount</th>\n",
              "      <th>Class</th>\n",
              "    </tr>\n",
              "  </thead>\n",
              "  <tbody>\n",
              "    <tr>\n",
              "      <th>count</th>\n",
              "      <td>5848.000000</td>\n",
              "      <td>5848.000000</td>\n",
              "      <td>5848.000000</td>\n",
              "      <td>5848.000000</td>\n",
              "      <td>5848.000000</td>\n",
              "      <td>5848.000000</td>\n",
              "      <td>5848.000000</td>\n",
              "      <td>5848.000000</td>\n",
              "      <td>5848.000000</td>\n",
              "      <td>5848.000000</td>\n",
              "      <td>...</td>\n",
              "      <td>5848.000000</td>\n",
              "      <td>5848.000000</td>\n",
              "      <td>5848.000000</td>\n",
              "      <td>5848.000000</td>\n",
              "      <td>5848.000000</td>\n",
              "      <td>5847.000000</td>\n",
              "      <td>5847.000000</td>\n",
              "      <td>5847.000000</td>\n",
              "      <td>5847.000000</td>\n",
              "      <td>5847.000000</td>\n",
              "    </tr>\n",
              "    <tr>\n",
              "      <th>mean</th>\n",
              "      <td>2595.367818</td>\n",
              "      <td>-0.261963</td>\n",
              "      <td>0.280725</td>\n",
              "      <td>0.843124</td>\n",
              "      <td>0.089948</td>\n",
              "      <td>-0.003169</td>\n",
              "      <td>0.187788</td>\n",
              "      <td>0.019107</td>\n",
              "      <td>-0.041914</td>\n",
              "      <td>0.381580</td>\n",
              "      <td>...</td>\n",
              "      <td>-0.040136</td>\n",
              "      <td>-0.161438</td>\n",
              "      <td>-0.037555</td>\n",
              "      <td>0.028896</td>\n",
              "      <td>0.089814</td>\n",
              "      <td>-0.039693</td>\n",
              "      <td>0.026793</td>\n",
              "      <td>0.005637</td>\n",
              "      <td>65.100371</td>\n",
              "      <td>0.000513</td>\n",
              "    </tr>\n",
              "    <tr>\n",
              "      <th>std</th>\n",
              "      <td>1691.596663</td>\n",
              "      <td>1.393228</td>\n",
              "      <td>1.206192</td>\n",
              "      <td>1.024822</td>\n",
              "      <td>1.439625</td>\n",
              "      <td>1.186223</td>\n",
              "      <td>1.359345</td>\n",
              "      <td>1.062982</td>\n",
              "      <td>1.312675</td>\n",
              "      <td>1.044403</td>\n",
              "      <td>...</td>\n",
              "      <td>0.890170</td>\n",
              "      <td>0.647772</td>\n",
              "      <td>0.373349</td>\n",
              "      <td>0.619732</td>\n",
              "      <td>0.406480</td>\n",
              "      <td>0.489281</td>\n",
              "      <td>0.359668</td>\n",
              "      <td>0.258698</td>\n",
              "      <td>193.465557</td>\n",
              "      <td>0.022647</td>\n",
              "    </tr>\n",
              "    <tr>\n",
              "      <th>min</th>\n",
              "      <td>0.000000</td>\n",
              "      <td>-12.168192</td>\n",
              "      <td>-15.732974</td>\n",
              "      <td>-12.389545</td>\n",
              "      <td>-4.657545</td>\n",
              "      <td>-32.092129</td>\n",
              "      <td>-7.465603</td>\n",
              "      <td>-12.968670</td>\n",
              "      <td>-23.632502</td>\n",
              "      <td>-3.336805</td>\n",
              "      <td>...</td>\n",
              "      <td>-11.468435</td>\n",
              "      <td>-8.454599</td>\n",
              "      <td>-7.996811</td>\n",
              "      <td>-2.512377</td>\n",
              "      <td>-2.322906</td>\n",
              "      <td>-1.338556</td>\n",
              "      <td>-7.976100</td>\n",
              "      <td>-2.909294</td>\n",
              "      <td>0.000000</td>\n",
              "      <td>0.000000</td>\n",
              "    </tr>\n",
              "    <tr>\n",
              "      <th>25%</th>\n",
              "      <td>1135.750000</td>\n",
              "      <td>-1.012439</td>\n",
              "      <td>-0.286978</td>\n",
              "      <td>0.294467</td>\n",
              "      <td>-0.853598</td>\n",
              "      <td>-0.609305</td>\n",
              "      <td>-0.681349</td>\n",
              "      <td>-0.490755</td>\n",
              "      <td>-0.190603</td>\n",
              "      <td>-0.271732</td>\n",
              "      <td>...</td>\n",
              "      <td>-0.258474</td>\n",
              "      <td>-0.594663</td>\n",
              "      <td>-0.187441</td>\n",
              "      <td>-0.348045</td>\n",
              "      <td>-0.151126</td>\n",
              "      <td>-0.400366</td>\n",
              "      <td>-0.049389</td>\n",
              "      <td>-0.017702</td>\n",
              "      <td>4.395000</td>\n",
              "      <td>0.000000</td>\n",
              "    </tr>\n",
              "    <tr>\n",
              "      <th>50%</th>\n",
              "      <td>2471.000000</td>\n",
              "      <td>-0.416942</td>\n",
              "      <td>0.343869</td>\n",
              "      <td>0.879825</td>\n",
              "      <td>0.147118</td>\n",
              "      <td>-0.087533</td>\n",
              "      <td>-0.150866</td>\n",
              "      <td>0.044800</td>\n",
              "      <td>0.037795</td>\n",
              "      <td>0.358471</td>\n",
              "      <td>...</td>\n",
              "      <td>-0.109719</td>\n",
              "      <td>-0.177561</td>\n",
              "      <td>-0.047120</td>\n",
              "      <td>0.095822</td>\n",
              "      <td>0.106658</td>\n",
              "      <td>-0.078699</td>\n",
              "      <td>0.016448</td>\n",
              "      <td>0.019429</td>\n",
              "      <td>15.690000</td>\n",
              "      <td>0.000000</td>\n",
              "    </tr>\n",
              "    <tr>\n",
              "      <th>75%</th>\n",
              "      <td>3766.000000</td>\n",
              "      <td>1.116368</td>\n",
              "      <td>0.935619</td>\n",
              "      <td>1.497673</td>\n",
              "      <td>1.057136</td>\n",
              "      <td>0.433545</td>\n",
              "      <td>0.599556</td>\n",
              "      <td>0.567276</td>\n",
              "      <td>0.340562</td>\n",
              "      <td>0.938599</td>\n",
              "      <td>...</td>\n",
              "      <td>0.062022</td>\n",
              "      <td>0.273355</td>\n",
              "      <td>0.087544</td>\n",
              "      <td>0.436471</td>\n",
              "      <td>0.354969</td>\n",
              "      <td>0.249251</td>\n",
              "      <td>0.156264</td>\n",
              "      <td>0.082578</td>\n",
              "      <td>56.705000</td>\n",
              "      <td>0.000000</td>\n",
              "    </tr>\n",
              "    <tr>\n",
              "      <th>max</th>\n",
              "      <td>6347.000000</td>\n",
              "      <td>1.685314</td>\n",
              "      <td>7.467017</td>\n",
              "      <td>4.101716</td>\n",
              "      <td>6.013346</td>\n",
              "      <td>10.658654</td>\n",
              "      <td>21.393069</td>\n",
              "      <td>34.303177</td>\n",
              "      <td>3.877662</td>\n",
              "      <td>9.272376</td>\n",
              "      <td>...</td>\n",
              "      <td>22.580675</td>\n",
              "      <td>4.393846</td>\n",
              "      <td>4.095021</td>\n",
              "      <td>3.200201</td>\n",
              "      <td>1.972515</td>\n",
              "      <td>3.463246</td>\n",
              "      <td>3.852046</td>\n",
              "      <td>4.860769</td>\n",
              "      <td>7712.430000</td>\n",
              "      <td>1.000000</td>\n",
              "    </tr>\n",
              "  </tbody>\n",
              "</table>\n",
              "<p>8 rows × 31 columns</p>\n",
              "</div>\n",
              "    <div class=\"colab-df-buttons\">\n",
              "\n",
              "  <div class=\"colab-df-container\">\n",
              "    <button class=\"colab-df-convert\" onclick=\"convertToInteractive('df-0018042e-805b-447a-927c-ccacbdfbe05a')\"\n",
              "            title=\"Convert this dataframe to an interactive table.\"\n",
              "            style=\"display:none;\">\n",
              "\n",
              "  <svg xmlns=\"http://www.w3.org/2000/svg\" height=\"24px\" viewBox=\"0 -960 960 960\">\n",
              "    <path d=\"M120-120v-720h720v720H120Zm60-500h600v-160H180v160Zm220 220h160v-160H400v160Zm0 220h160v-160H400v160ZM180-400h160v-160H180v160Zm440 0h160v-160H620v160ZM180-180h160v-160H180v160Zm440 0h160v-160H620v160Z\"/>\n",
              "  </svg>\n",
              "    </button>\n",
              "\n",
              "  <style>\n",
              "    .colab-df-container {\n",
              "      display:flex;\n",
              "      gap: 12px;\n",
              "    }\n",
              "\n",
              "    .colab-df-convert {\n",
              "      background-color: #E8F0FE;\n",
              "      border: none;\n",
              "      border-radius: 50%;\n",
              "      cursor: pointer;\n",
              "      display: none;\n",
              "      fill: #1967D2;\n",
              "      height: 32px;\n",
              "      padding: 0 0 0 0;\n",
              "      width: 32px;\n",
              "    }\n",
              "\n",
              "    .colab-df-convert:hover {\n",
              "      background-color: #E2EBFA;\n",
              "      box-shadow: 0px 1px 2px rgba(60, 64, 67, 0.3), 0px 1px 3px 1px rgba(60, 64, 67, 0.15);\n",
              "      fill: #174EA6;\n",
              "    }\n",
              "\n",
              "    .colab-df-buttons div {\n",
              "      margin-bottom: 4px;\n",
              "    }\n",
              "\n",
              "    [theme=dark] .colab-df-convert {\n",
              "      background-color: #3B4455;\n",
              "      fill: #D2E3FC;\n",
              "    }\n",
              "\n",
              "    [theme=dark] .colab-df-convert:hover {\n",
              "      background-color: #434B5C;\n",
              "      box-shadow: 0px 1px 3px 1px rgba(0, 0, 0, 0.15);\n",
              "      filter: drop-shadow(0px 1px 2px rgba(0, 0, 0, 0.3));\n",
              "      fill: #FFFFFF;\n",
              "    }\n",
              "  </style>\n",
              "\n",
              "    <script>\n",
              "      const buttonEl =\n",
              "        document.querySelector('#df-0018042e-805b-447a-927c-ccacbdfbe05a button.colab-df-convert');\n",
              "      buttonEl.style.display =\n",
              "        google.colab.kernel.accessAllowed ? 'block' : 'none';\n",
              "\n",
              "      async function convertToInteractive(key) {\n",
              "        const element = document.querySelector('#df-0018042e-805b-447a-927c-ccacbdfbe05a');\n",
              "        const dataTable =\n",
              "          await google.colab.kernel.invokeFunction('convertToInteractive',\n",
              "                                                    [key], {});\n",
              "        if (!dataTable) return;\n",
              "\n",
              "        const docLinkHtml = 'Like what you see? Visit the ' +\n",
              "          '<a target=\"_blank\" href=https://colab.research.google.com/notebooks/data_table.ipynb>data table notebook</a>'\n",
              "          + ' to learn more about interactive tables.';\n",
              "        element.innerHTML = '';\n",
              "        dataTable['output_type'] = 'display_data';\n",
              "        await google.colab.output.renderOutput(dataTable, element);\n",
              "        const docLink = document.createElement('div');\n",
              "        docLink.innerHTML = docLinkHtml;\n",
              "        element.appendChild(docLink);\n",
              "      }\n",
              "    </script>\n",
              "  </div>\n",
              "\n",
              "\n",
              "<div id=\"df-c526575d-763f-4d6e-a889-79be32832ebd\">\n",
              "  <button class=\"colab-df-quickchart\" onclick=\"quickchart('df-c526575d-763f-4d6e-a889-79be32832ebd')\"\n",
              "            title=\"Suggest charts\"\n",
              "            style=\"display:none;\">\n",
              "\n",
              "<svg xmlns=\"http://www.w3.org/2000/svg\" height=\"24px\"viewBox=\"0 0 24 24\"\n",
              "     width=\"24px\">\n",
              "    <g>\n",
              "        <path d=\"M19 3H5c-1.1 0-2 .9-2 2v14c0 1.1.9 2 2 2h14c1.1 0 2-.9 2-2V5c0-1.1-.9-2-2-2zM9 17H7v-7h2v7zm4 0h-2V7h2v10zm4 0h-2v-4h2v4z\"/>\n",
              "    </g>\n",
              "</svg>\n",
              "  </button>\n",
              "\n",
              "<style>\n",
              "  .colab-df-quickchart {\n",
              "      --bg-color: #E8F0FE;\n",
              "      --fill-color: #1967D2;\n",
              "      --hover-bg-color: #E2EBFA;\n",
              "      --hover-fill-color: #174EA6;\n",
              "      --disabled-fill-color: #AAA;\n",
              "      --disabled-bg-color: #DDD;\n",
              "  }\n",
              "\n",
              "  [theme=dark] .colab-df-quickchart {\n",
              "      --bg-color: #3B4455;\n",
              "      --fill-color: #D2E3FC;\n",
              "      --hover-bg-color: #434B5C;\n",
              "      --hover-fill-color: #FFFFFF;\n",
              "      --disabled-bg-color: #3B4455;\n",
              "      --disabled-fill-color: #666;\n",
              "  }\n",
              "\n",
              "  .colab-df-quickchart {\n",
              "    background-color: var(--bg-color);\n",
              "    border: none;\n",
              "    border-radius: 50%;\n",
              "    cursor: pointer;\n",
              "    display: none;\n",
              "    fill: var(--fill-color);\n",
              "    height: 32px;\n",
              "    padding: 0;\n",
              "    width: 32px;\n",
              "  }\n",
              "\n",
              "  .colab-df-quickchart:hover {\n",
              "    background-color: var(--hover-bg-color);\n",
              "    box-shadow: 0 1px 2px rgba(60, 64, 67, 0.3), 0 1px 3px 1px rgba(60, 64, 67, 0.15);\n",
              "    fill: var(--button-hover-fill-color);\n",
              "  }\n",
              "\n",
              "  .colab-df-quickchart-complete:disabled,\n",
              "  .colab-df-quickchart-complete:disabled:hover {\n",
              "    background-color: var(--disabled-bg-color);\n",
              "    fill: var(--disabled-fill-color);\n",
              "    box-shadow: none;\n",
              "  }\n",
              "\n",
              "  .colab-df-spinner {\n",
              "    border: 2px solid var(--fill-color);\n",
              "    border-color: transparent;\n",
              "    border-bottom-color: var(--fill-color);\n",
              "    animation:\n",
              "      spin 1s steps(1) infinite;\n",
              "  }\n",
              "\n",
              "  @keyframes spin {\n",
              "    0% {\n",
              "      border-color: transparent;\n",
              "      border-bottom-color: var(--fill-color);\n",
              "      border-left-color: var(--fill-color);\n",
              "    }\n",
              "    20% {\n",
              "      border-color: transparent;\n",
              "      border-left-color: var(--fill-color);\n",
              "      border-top-color: var(--fill-color);\n",
              "    }\n",
              "    30% {\n",
              "      border-color: transparent;\n",
              "      border-left-color: var(--fill-color);\n",
              "      border-top-color: var(--fill-color);\n",
              "      border-right-color: var(--fill-color);\n",
              "    }\n",
              "    40% {\n",
              "      border-color: transparent;\n",
              "      border-right-color: var(--fill-color);\n",
              "      border-top-color: var(--fill-color);\n",
              "    }\n",
              "    60% {\n",
              "      border-color: transparent;\n",
              "      border-right-color: var(--fill-color);\n",
              "    }\n",
              "    80% {\n",
              "      border-color: transparent;\n",
              "      border-right-color: var(--fill-color);\n",
              "      border-bottom-color: var(--fill-color);\n",
              "    }\n",
              "    90% {\n",
              "      border-color: transparent;\n",
              "      border-bottom-color: var(--fill-color);\n",
              "    }\n",
              "  }\n",
              "</style>\n",
              "\n",
              "  <script>\n",
              "    async function quickchart(key) {\n",
              "      const quickchartButtonEl =\n",
              "        document.querySelector('#' + key + ' button');\n",
              "      quickchartButtonEl.disabled = true;  // To prevent multiple clicks.\n",
              "      quickchartButtonEl.classList.add('colab-df-spinner');\n",
              "      try {\n",
              "        const charts = await google.colab.kernel.invokeFunction(\n",
              "            'suggestCharts', [key], {});\n",
              "      } catch (error) {\n",
              "        console.error('Error during call to suggestCharts:', error);\n",
              "      }\n",
              "      quickchartButtonEl.classList.remove('colab-df-spinner');\n",
              "      quickchartButtonEl.classList.add('colab-df-quickchart-complete');\n",
              "    }\n",
              "    (() => {\n",
              "      let quickchartButtonEl =\n",
              "        document.querySelector('#df-c526575d-763f-4d6e-a889-79be32832ebd button');\n",
              "      quickchartButtonEl.style.display =\n",
              "        google.colab.kernel.accessAllowed ? 'block' : 'none';\n",
              "    })();\n",
              "  </script>\n",
              "</div>\n",
              "\n",
              "    </div>\n",
              "  </div>\n"
            ],
            "application/vnd.google.colaboratory.intrinsic+json": {
              "type": "dataframe"
            }
          },
          "metadata": {},
          "execution_count": 8
        }
      ]
    },
    {
      "cell_type": "code",
      "source": [
        "data.isnull().sum().sum()"
      ],
      "metadata": {
        "colab": {
          "base_uri": "https://localhost:8080/"
        },
        "id": "3IMbrbUObfU1",
        "outputId": "c2514098-7efc-4cd2-c261-c9f11a16c8fc"
      },
      "execution_count": null,
      "outputs": [
        {
          "output_type": "execute_result",
          "data": {
            "text/plain": [
              "5"
            ]
          },
          "metadata": {},
          "execution_count": 9
        }
      ]
    },
    {
      "cell_type": "code",
      "source": [
        "print('No Frauds', round(data['Class'].value_counts()[0]/len(data) * 100,2), '% of the dataset')\n",
        "print('Frauds', round(data['Class'].value_counts()[1]/len(data) * 100,2), '% of the dataset')"
      ],
      "metadata": {
        "colab": {
          "base_uri": "https://localhost:8080/"
        },
        "id": "J3vxsin0blL4",
        "outputId": "07897262-58de-4a76-d085-6c2e0dc850a4"
      },
      "execution_count": null,
      "outputs": [
        {
          "output_type": "stream",
          "name": "stdout",
          "text": [
            "No Frauds 99.93 % of the dataset\n",
            "Frauds 0.05 % of the dataset\n"
          ]
        }
      ]
    },
    {
      "cell_type": "code",
      "source": [
        "sns.countplot(x='Class',data = data)\n",
        "plt.title('Class Distributions \\n (0: No Fraud || 1: Fraud)', fontsize=14)"
      ],
      "metadata": {
        "colab": {
          "base_uri": "https://localhost:8080/",
          "height": 512
        },
        "id": "m1kcZK6fbpTb",
        "outputId": "733f0e89-5b96-4fc1-9f83-6b839d0ea6b8"
      },
      "execution_count": null,
      "outputs": [
        {
          "output_type": "execute_result",
          "data": {
            "text/plain": [
              "Text(0.5, 1.0, 'Class Distributions \\n (0: No Fraud || 1: Fraud)')"
            ]
          },
          "metadata": {},
          "execution_count": 11
        },
        {
          "output_type": "display_data",
          "data": {
            "text/plain": [
              "<Figure size 640x480 with 1 Axes>"
            ],
            "image/png": "[encoded data removed]"
          },
          "metadata": {}
        }
      ]
    },
    {
      "cell_type": "code",
      "source": [
        "tmp = data[['Amount','Class']].copy()\n",
        "class_0 = tmp.loc[tmp['Class'] == 0]['Amount']\n",
        "class_1 = tmp.loc[tmp['Class'] == 1]['Amount']"
      ],
      "metadata": {
        "id": "5yzAgDZObsA2"
      },
      "execution_count": null,
      "outputs": []
    },
    {
      "cell_type": "code",
      "source": [
        "class_0.describe()"
      ],
      "metadata": {
        "colab": {
          "base_uri": "https://localhost:8080/"
        },
        "id": "m0lRrZecbvKE",
        "outputId": "8b30051a-4a81-4b81-f155-489a93a2df60"
      },
      "execution_count": null,
      "outputs": [
        {
          "output_type": "execute_result",
          "data": {
            "text/plain": [
              "count    5844.000000\n",
              "mean       65.002214\n",
              "std       193.404607\n",
              "min         0.000000\n",
              "25%         4.397500\n",
              "50%        15.655000\n",
              "75%        56.570000\n",
              "max      7712.430000\n",
              "Name: Amount, dtype: float64"
            ]
          },
          "metadata": {},
          "execution_count": 14
        }
      ]
    },
    {
      "cell_type": "code",
      "source": [
        "class_1.describe()"
      ],
      "metadata": {
        "colab": {
          "base_uri": "https://localhost:8080/"
        },
        "id": "-LWzmhdAb4o9",
        "outputId": "c5ae269e-b5d5-4b0c-e0ad-ec242f6867fb"
      },
      "execution_count": null,
      "outputs": [
        {
          "output_type": "execute_result",
          "data": {
            "text/plain": [
              "count      3.000000\n",
              "mean     256.310000\n",
              "std      264.880121\n",
              "min        0.000000\n",
              "25%      119.965000\n",
              "50%      239.930000\n",
              "75%      384.465000\n",
              "max      529.000000\n",
              "Name: Amount, dtype: float64"
            ]
          },
          "metadata": {},
          "execution_count": 15
        }
      ]
    },
    {
      "cell_type": "code",
      "source": [
        "# The real transaction have a larger mean value, larger Q1, smaller Q3 and Q4 and larger outliers;\n",
        "# fraudulent transactions have a smaller Q1 and mean, larger Q4 and smaller outliers."
      ],
      "metadata": {
        "id": "SJiyIt1Hb7le"
      },
      "execution_count": null,
      "outputs": []
    },
    {
      "cell_type": "code",
      "source": [
        "dataplot = sns.heatmap(data.corr(), cmap=\"Blues\")\n",
        "plt.show()"
      ],
      "metadata": {
        "colab": {
          "base_uri": "https://localhost:8080/",
          "height": 458
        },
        "id": "fFJ3_z53cBhP",
        "outputId": "a8d9b756-bcc3-4665-af13-73b7597cefb0"
      },
      "execution_count": null,
      "outputs": [
        {
          "output_type": "display_data",
          "data": {
            "text/plain": [
              "<Figure size 640x480 with 2 Axes>"
            ],
            "image/png": "[encoded data removed]"
          },
          "metadata": {}
        }
      ]
    },
    {
      "cell_type": "code",
      "source": [
        "X = data.drop(\"Class\", axis=1)\n",
        "y = data['Class']"
      ],
      "metadata": {
        "id": "QOAOb8aXcDuE"
      },
      "execution_count": null,
      "outputs": []
    },
    {
      "cell_type": "code",
      "source": [
        "scaler = MinMaxScaler()\n",
        "X = scaler.fit_transform(X)\n",
        "X"
      ],
      "metadata": {
        "colab": {
          "base_uri": "https://localhost:8080/"
        },
        "id": "azXkP0IccF8K",
        "outputId": "ce18a49d-cdfd-47b8-856b-007b9fe240b0"
      },
      "execution_count": null,
      "outputs": [
        {
          "output_type": "execute_result",
          "data": {
            "text/plain": [
              "array([[0.00000000e+00, 7.80191317e-01, 6.75008587e-01, ...,\n",
              "        6.85623814e-01, 3.71713993e-01, 1.93998519e-02],\n",
              "       [0.00000000e+00, 9.64380374e-01, 6.89617726e-01, ...,\n",
              "        6.73572772e-01, 3.76318488e-01, 3.48787607e-04],\n",
              "       [1.57554750e-04, 7.80296205e-01, 6.20380035e-01, ...,\n",
              "        6.69652487e-01, 3.66733494e-01, 4.90973662e-02],\n",
              "       ...,\n",
              "       [9.99684890e-01, 8.15846189e-01, 6.90887846e-01, ...,\n",
              "        6.92170185e-01, 3.67111411e-01, 2.78511442e-03],\n",
              "       [9.99684890e-01, 9.65254835e-01, 7.18114179e-01, ...,\n",
              "        6.75682875e-01, 3.81978568e-01, 1.29660820e-04],\n",
              "       [1.00000000e+00, 9.59394983e-01, 6.75381145e-01, ...,\n",
              "                   nan,            nan,            nan]])"
            ]
          },
          "metadata": {},
          "execution_count": 21
        }
      ]
    },
    {
      "cell_type": "code",
      "source": [
        "import numpy as np\n",
        "\n",
        "print(np.isnan(y).sum())\n"
      ],
      "metadata": {
        "colab": {
          "base_uri": "https://localhost:8080/"
        },
        "id": "uvacv-7jc9dB",
        "outputId": "deaaf44e-49e4-4a4e-afd0-236b73f11690"
      },
      "execution_count": null,
      "outputs": [
        {
          "output_type": "stream",
          "name": "stdout",
          "text": [
            "4\n"
          ]
        }
      ]
    },
    {
      "cell_type": "code",
      "source": [
        "mask = ~np.isnan(y)\n",
        "X = X[mask]\n",
        "y = y[mask]\n"
      ],
      "metadata": {
        "id": "cJ20sfc2eVnw"
      },
      "execution_count": null,
      "outputs": []
    },
    {
      "cell_type": "code",
      "source": [
        "from sklearn.model_selection import train_test_split\n",
        "\n",
        "# Perform train-test split without stratification\n",
        "X_train, X_test, y_train, y_test = train_test_split(X, y, random_state=42, test_size=0.2)\n"
      ],
      "metadata": {
        "id": "OVsLhdVoebDk"
      },
      "execution_count": null,
      "outputs": []
    },
    {
      "cell_type": "code",
      "source": [
        "import pandas as pd\n",
        "\n",
        "y_train_series = pd.Series(y_train)\n",
        "print(y_train_series.value_counts())\n"
      ],
      "metadata": {
        "colab": {
          "base_uri": "https://localhost:8080/"
        },
        "id": "6W66iwcfeyfx",
        "outputId": "f078d331-2baa-4189-9300-7e434834f8b7"
      },
      "execution_count": null,
      "outputs": [
        {
          "output_type": "stream",
          "name": "stdout",
          "text": [
            "0.000130    444\n",
            "0.000648     93\n",
            "0.000257     85\n",
            "0.000115     71\n",
            "0.000000     67\n",
            "           ... \n",
            "0.723240      1\n",
            "0.648991      1\n",
            "0.442082      1\n",
            "0.527919      1\n",
            "0.854479      1\n",
            "Name: count, Length: 133766, dtype: int64\n"
          ]
        }
      ]
    },
    {
      "cell_type": "code",
      "source": [
        "print(y_train.dtype)\n"
      ],
      "metadata": {
        "colab": {
          "base_uri": "https://localhost:8080/"
        },
        "id": "e2FGM7MzfFSb",
        "outputId": "1e253720-7992-401b-a0eb-be50e4f3a566"
      },
      "execution_count": null,
      "outputs": [
        {
          "output_type": "stream",
          "name": "stdout",
          "text": [
            "float64\n"
          ]
        }
      ]
    },
    {
      "cell_type": "code",
      "source": [
        "# binning continuous values into discrete categories\n",
        "bins = [0, 10, 20, 30]  # Adjust bins based on your data\n",
        "labels = ['low', 'medium', 'high']\n",
        "y_train_binned = pd.cut(y_train, bins=bins, labels=labels)\n",
        "y_train_binned = y_train_binned.astype(str)  # Convert to string if needed\n"
      ],
      "metadata": {
        "id": "6QlCnJE6fa4V"
      },
      "execution_count": null,
      "outputs": []
    },
    {
      "cell_type": "code",
      "source": [
        "print(X_train.shape)\n"
      ],
      "metadata": {
        "colab": {
          "base_uri": "https://localhost:8080/"
        },
        "id": "clGXS0oOfy3l",
        "outputId": "de236e53-203c-4ee4-df31-1128901245bf"
      },
      "execution_count": null,
      "outputs": [
        {
          "output_type": "stream",
          "name": "stdout",
          "text": [
            "(140348,)\n"
          ]
        }
      ]
    },
    {
      "cell_type": "code",
      "source": [
        "if X_train.ndim == 1:\n",
        "    X_train = X_train.reshape(-1, 1)\n"
      ],
      "metadata": {
        "id": "HmQJd0HcgDu6"
      },
      "execution_count": null,
      "outputs": []
    },
    {
      "cell_type": "code",
      "source": [
        "from imblearn.over_sampling import SMOTE\n",
        "\n",
        "smote = SMOTE(random_state=0)\n",
        "X_train_resampled, y_train_resampled = smote.fit_resample(X_train, y_train)\n"
      ],
      "metadata": {
        "id": "IJRuX61igHCp"
      },
      "execution_count": null,
      "outputs": []
    },
    {
      "cell_type": "code",
      "source": [
        "y_train_series = pd.Series(y_train)\n",
        "print(y_train_series.value_counts())"
      ],
      "metadata": {
        "colab": {
          "base_uri": "https://localhost:8080/"
        },
        "id": "BvoYAS95gJ-u",
        "outputId": "14b76bd0-df83-414e-93a0-b6a7410a606b"
      },
      "execution_count": null,
      "outputs": [
        {
          "output_type": "stream",
          "name": "stdout",
          "text": [
            "1    78832\n",
            "0    61516\n",
            "Name: count, dtype: int64\n"
          ]
        }
      ]
    },
    {
      "cell_type": "code",
      "source": [
        "def evaluate(model):\n",
        "  model.fit(X_train,y_train)\n",
        "  pre = model.predict(X_test)\n",
        "\n",
        "  accuracy = accuracy_score(pre,y_test)\n",
        "  recall = recall_score(pre,y_test)\n",
        "  f1 = f1_score(pre,y_test)\n",
        "\n",
        "  sns.heatmap(confusion_matrix(pre,y_test),annot=True)\n",
        "  print(model)\n",
        "  print(\"Accuracy : \",accuracy,\"Recall : \",recall,\"F1 : \",f1)"
      ],
      "metadata": {
        "id": "xyFhwk8hgX8e"
      },
      "execution_count": null,
      "outputs": []
    },
    {
      "cell_type": "code",
      "source": [
        "model_LR = LogisticRegression()"
      ],
      "metadata": {
        "id": "WTqpinfYgbci"
      },
      "execution_count": null,
      "outputs": []
    },
    {
      "cell_type": "code",
      "source": [
        "#perform cross validation\n",
        "\n",
        "grid={\"C\":np.logspace(-3,3,7), \"penalty\":[\"l2\"]}  # l2 ridge\n",
        "\n",
        "clf_lsr_cv = GridSearchCV(model_LR,grid,cv=3,scoring='roc_auc')\n",
        "clf_lsr_cv.fit(X_train,y_train)\n",
        "\n",
        "print(\"tuned hpyerparameters :(best parameters) \",clf_lsr_cv.best_params_)\n",
        "print(\"accuracy :\",clf_lsr_cv.best_score_)"
      ],
      "metadata": {
        "colab": {
          "base_uri": "https://localhost:8080/"
        },
        "id": "rYSuA7gdgykA",
        "outputId": "2c93e054-5451-46dd-ca64-aa0d2c58cf24"
      },
      "execution_count": null,
      "outputs": [
        {
          "output_type": "stream",
          "name": "stdout",
          "text": [
            "tuned hpyerparameters :(best parameters)  {'C': 0.001, 'penalty': 'l2'}\n",
            "accuracy : 1.0\n"
          ]
        }
      ]
    },
    {
      "cell_type": "code",
      "source": [
        "if X_train.ndim == 1:\n",
        "    X_train = X_train.reshape(-1, 1)\n",
        "if X_test.ndim == 1:\n",
        "    X_test = X_test.reshape(-1, 1)\n"
      ],
      "metadata": {
        "id": "sN8XksvBhiRv"
      },
      "execution_count": null,
      "outputs": []
    },
    {
      "cell_type": "code",
      "source": [
        "print(\"Shape of X_train:\", X_train.shape)\n",
        "print(\"Shape of X_test:\", X_test.shape)\n",
        "print(\"Shape of y_train:\", y_train.shape)\n",
        "print(\"Shape of y_test:\", y_test.shape)\n"
      ],
      "metadata": {
        "colab": {
          "base_uri": "https://localhost:8080/"
        },
        "id": "YlH_BV6Hhj1s",
        "outputId": "f2907f02-f75e-4951-83d4-2462a42401d3"
      },
      "execution_count": null,
      "outputs": [
        {
          "output_type": "stream",
          "name": "stdout",
          "text": [
            "Shape of X_train: (140348, 1)\n",
            "Shape of X_test: (35088, 1)\n",
            "Shape of y_train: (140348,)\n",
            "Shape of y_test: (35088,)\n"
          ]
        }
      ]
    },
    {
      "cell_type": "code",
      "source": [
        "from sklearn.linear_model import LogisticRegression\n",
        "\n",
        "lsr_best = LogisticRegression(penalty='l2', C=1000.0, random_state=42)\n",
        "lsr_clf = lsr_best.fit(X_train, y_train)\n"
      ],
      "metadata": {
        "id": "NXTVI-2ohnHL"
      },
      "execution_count": null,
      "outputs": []
    },
    {
      "cell_type": "code",
      "source": [
        "# Assuming evaluate is a custom function for model evaluation\n",
        "# Replace 'evaluate' with the actual evaluation method\n",
        "def evaluate(model, X_test, y_test):\n",
        "    from sklearn.metrics import accuracy_score, classification_report\n",
        "    y_pred = model.predict(X_test)\n",
        "    print(\"Accuracy:\", accuracy_score(y_test, y_pred))\n",
        "    print(\"Classification Report:\\n\", classification_report(y_test, y_pred))\n",
        "\n",
        "# Evaluate the model\n",
        "evaluate(lsr_clf, X_test, y_test)"
      ],
      "metadata": {
        "colab": {
          "base_uri": "https://localhost:8080/"
        },
        "id": "LpOcq_bRhppE",
        "outputId": "2edefc0c-2511-4882-c912-a967cc48959c"
      },
      "execution_count": null,
      "outputs": [
        {
          "output_type": "stream",
          "name": "stdout",
          "text": [
            "Accuracy: 1.0\n",
            "Classification Report:\n",
            "               precision    recall  f1-score   support\n",
            "\n",
            "           0       1.00      1.00      1.00     15380\n",
            "           1       1.00      1.00      1.00     19708\n",
            "\n",
            "    accuracy                           1.00     35088\n",
            "   macro avg       1.00      1.00      1.00     35088\n",
            "weighted avg       1.00      1.00      1.00     35088\n",
            "\n"
          ]
        }
      ]
    },
    {
      "cell_type": "code",
      "source": [
        "model_KNN = KNeighborsClassifier()"
      ],
      "metadata": {
        "id": "Ppl13L9khvWF"
      },
      "execution_count": null,
      "outputs": []
    },
    {
      "cell_type": "code",
      "source": [
        "k_range = np.arange(1, 20, 2)\n",
        "scores = [] #to store cross val score for each k\n",
        "for k in k_range:\n",
        "  model_KNN  = KNeighborsClassifier(n_neighbors=k)\n",
        "  model_KNN .fit(X_train,y_train)\n",
        "  score = cross_val_score(model_KNN , X_train, y_train, cv=3, n_jobs = -1)\n",
        "  scores.append(score.mean())\n",
        "\n",
        "#Storing the mean squared error to decide optimum k\n",
        "mse = [1-x for x in scores]"
      ],
      "metadata": {
        "id": "Z9fTIFAhhyN7"
      },
      "execution_count": null,
      "outputs": []
    },
    {
      "cell_type": "code",
      "source": [
        "plt.figure(figsize=(20,8))\n",
        "plt.subplot(121)\n",
        "sns.lineplot(x=k_range,y=mse,markers=True,dashes=False)\n",
        "plt.xlabel(\"Value of K\")\n",
        "plt.ylabel(\"Mean Squared Error\")\n",
        "plt.subplot(122)\n",
        "sns.lineplot(x=k_range,y=scores,markers=True,dashes=False)\n",
        "plt.xlabel(\"Value of K\")\n",
        "plt.ylabel(\"Cross Validation Accuracy\")\n",
        "\n",
        "plt.show()"
      ],
      "metadata": {
        "colab": {
          "base_uri": "https://localhost:8080/",
          "height": 493
        },
        "id": "5S3xcDsxh0kI",
        "outputId": "0b3977b5-d54c-4efe-ed78-108d49bc724d"
      },
      "execution_count": null,
      "outputs": [
        {
          "output_type": "display_data",
          "data": {
            "text/plain": [
              "<Figure size 2000x800 with 2 Axes>"
            ],
            "image/png": "[encoded data removed]"
          },
          "metadata": {}
        }
      ]
    },
    {
      "cell_type": "code",
      "source": [
        "knn = KNeighborsClassifier(n_neighbors=3)\n",
        "\n",
        "knn_clf = knn.fit(X_train,y_train)\n",
        "\n",
        "evaluate(knn_clf, X_test, y_test)\n"
      ],
      "metadata": {
        "colab": {
          "base_uri": "https://localhost:8080/"
        },
        "id": "B7ybzMsqiM4d",
        "outputId": "a292b032-2160-411a-e425-aef302364b13"
      },
      "execution_count": null,
      "outputs": [
        {
          "output_type": "stream",
          "name": "stdout",
          "text": [
            "Accuracy: 1.0\n",
            "Classification Report:\n",
            "               precision    recall  f1-score   support\n",
            "\n",
            "           0       1.00      1.00      1.00     15380\n",
            "           1       1.00      1.00      1.00     19708\n",
            "\n",
            "    accuracy                           1.00     35088\n",
            "   macro avg       1.00      1.00      1.00     35088\n",
            "weighted avg       1.00      1.00      1.00     35088\n",
            "\n"
          ]
        }
      ]
    },
    {
      "cell_type": "code",
      "source": [
        "model_RFC = RandomForestClassifier()"
      ],
      "metadata": {
        "id": "x_QR-FWliRg-"
      },
      "execution_count": null,
      "outputs": []
    },
    {
      "cell_type": "code",
      "source": [
        "# Using grid search cv to find the best parameters.\n",
        "\n",
        "param = {'n_estimators': [10, 20, 30, 40, 50], 'max_depth': [2, 3, 4, 7, 9]}\n",
        "clf_rfc_cv = GridSearchCV(model_RFC, param, cv=5,scoring='roc_auc', n_jobs=-1)\n",
        "clf_rfc_cv.fit(X_train,y_train)\n",
        "\n",
        "print(\"tuned hpyerparameters :(best parameters) \",clf_rfc_cv.best_params_)\n",
        "print(\"accuracy :\",clf_rfc_cv.best_score_)"
      ],
      "metadata": {
        "colab": {
          "base_uri": "https://localhost:8080/"
        },
        "id": "kpRBRbceiqL5",
        "outputId": "a3bd8e3d-9cc3-4211-fbf9-ad6b7932ee25"
      },
      "execution_count": null,
      "outputs": [
        {
          "output_type": "stream",
          "name": "stdout",
          "text": [
            "tuned hpyerparameters :(best parameters)  {'max_depth': 2, 'n_estimators': 30}\n",
            "accuracy : 1.0\n"
          ]
        }
      ]
    },
    {
      "cell_type": "code",
      "source": [
        "#Fitting model\n",
        "\n",
        "rf = RandomForestClassifier(max_depth=9, n_estimators=50)\n",
        "RFC_clf = rf.fit(X_train,y_train)\n",
        "\n",
        "evaluate(RFC_clf, X_test, y_test)"
      ],
      "metadata": {
        "colab": {
          "base_uri": "https://localhost:8080/"
        },
        "id": "jpQ0Y1Agiutb",
        "outputId": "c3b547aa-fe06-4625-b137-dc1e9b89915d"
      },
      "execution_count": null,
      "outputs": [
        {
          "output_type": "stream",
          "name": "stdout",
          "text": [
            "Accuracy: 1.0\n",
            "Classification Report:\n",
            "               precision    recall  f1-score   support\n",
            "\n",
            "           0       1.00      1.00      1.00     15380\n",
            "           1       1.00      1.00      1.00     19708\n",
            "\n",
            "    accuracy                           1.00     35088\n",
            "   macro avg       1.00      1.00      1.00     35088\n",
            "weighted avg       1.00      1.00      1.00     35088\n",
            "\n"
          ]
        }
      ]
    },
    {
      "cell_type": "code",
      "source": [
        "model_ANN = Sequential([\n",
        "    Dense(32, activation='relu', input_dim=X_train.shape[1]),\n",
        "\n",
        "    Dense(16, activation='relu'),\n",
        "\n",
        "    Dense(8, activation='relu'),\n",
        "\n",
        "    Dense(1, activation='sigmoid')\n",
        "])\n",
        "\n",
        "model_ANN.compile(optimizer='adam', loss='binary_crossentropy', metrics=['accuracy'])\n",
        "model_ANN.summary()"
      ],
      "metadata": {
        "colab": {
          "base_uri": "https://localhost:8080/"
        },
        "id": "FDEsmaVwjS5Z",
        "outputId": "6fba18b7-ff45-4fb2-8c41-96557c8b341f"
      },
      "execution_count": null,
      "outputs": [
        {
          "output_type": "stream",
          "name": "stdout",
          "text": [
            "Model: \"sequential\"\n",
            "_________________________________________________________________\n",
            " Layer (type)                Output Shape              Param #   \n",
            "=================================================================\n",
            " dense (Dense)               (None, 32)                64        \n",
            "                                                                 \n",
            " dense_1 (Dense)             (None, 16)                528       \n",
            "                                                                 \n",
            " dense_2 (Dense)             (None, 8)                 136       \n",
            "                                                                 \n",
            " dense_3 (Dense)             (None, 1)                 9         \n",
            "                                                                 \n",
            "=================================================================\n",
            "Total params: 737 (2.88 KB)\n",
            "Trainable params: 737 (2.88 KB)\n",
            "Non-trainable params: 0 (0.00 Byte)\n",
            "_________________________________________________________________\n"
          ]
        }
      ]
    },
    {
      "cell_type": "code",
      "source": [
        "X_train = X_train.to_numpy() if hasattr(X_train, 'to_numpy') else np.array(X_train)\n",
        "y_train = y_train.to_numpy() if hasattr(y_train, 'to_numpy') else np.array(y_train)\n"
      ],
      "metadata": {
        "id": "QtixpB8nj8nP"
      },
      "execution_count": null,
      "outputs": []
    },
    {
      "cell_type": "code",
      "source": [
        "import numpy as np\n",
        "\n",
        "if isinstance(X_train, pd.DataFrame) or isinstance(X_train, pd.Series):\n",
        "    X_train = X_train.values\n",
        "if isinstance(y_train, pd.DataFrame) or isinstance(y_train, pd.Series):\n",
        "    y_train = y_train.values\n"
      ],
      "metadata": {
        "id": "SSD5lwEPkScL"
      },
      "execution_count": null,
      "outputs": []
    },
    {
      "cell_type": "code",
      "source": [
        "history = model_ANN.fit(X_train, y_train, epochs=50, batch_size=64, validation_split=0.2)\n"
      ],
      "metadata": {
        "colab": {
          "base_uri": "https://localhost:8080/"
        },
        "id": "NBFPIZhOkVmA",
        "outputId": "78383931-7628-438f-9ac7-0e5608e10e25"
      },
      "execution_count": null,
      "outputs": [
        {
          "output_type": "stream",
          "name": "stdout",
          "text": [
            "Epoch 1/50\n",
            "1755/1755 [==============================] - 11s 4ms/step - loss: 0.1465 - accuracy: 0.9608 - val_loss: 0.0227 - val_accuracy: 0.9996\n",
            "Epoch 2/50\n",
            "1755/1755 [==============================] - 5s 3ms/step - loss: 0.0179 - accuracy: 0.9961 - val_loss: 0.0133 - val_accuracy: 0.9975\n",
            "Epoch 3/50\n",
            "1755/1755 [==============================] - 5s 3ms/step - loss: 0.0117 - accuracy: 0.9970 - val_loss: 0.0092 - val_accuracy: 0.9981\n",
            "Epoch 4/50\n",
            "1755/1755 [==============================] - 5s 3ms/step - loss: 0.0091 - accuracy: 0.9974 - val_loss: 0.0079 - val_accuracy: 0.9975\n",
            "Epoch 5/50\n",
            "1472/1755 [========================>.....] - ETA: 0s - loss: 0.0078 - accuracy: 0.9977"
          ]
        }
      ]
    },
    {
      "cell_type": "code",
      "source": [
        "y_pred = model_ANN.predict(X_test)\n",
        "y_pred = (y_pred > 0.5)"
      ],
      "metadata": {
        "colab": {
          "base_uri": "https://localhost:8080/"
        },
        "id": "wKp45MVHmnVJ",
        "outputId": "0e981cce-a90e-4bf4-c984-0fe50c1512e7"
      },
      "execution_count": null,
      "outputs": [
        {
          "output_type": "stream",
          "name": "stdout",
          "text": [
            "1097/1097 [==============================] - 2s 1ms/step\n"
          ]
        }
      ]
    },
    {
      "cell_type": "code",
      "source": [
        "classification_report(y_pred,y_test)"
      ],
      "metadata": {
        "colab": {
          "base_uri": "https://localhost:8080/",
          "height": 70
        },
        "id": "zU6Nv3eQkq0s",
        "outputId": "757e2498-cf91-4da3-e906-42879e44c164"
      },
      "execution_count": null,
      "outputs": [
        {
          "output_type": "execute_result",
          "data": {
            "text/plain": [
              "'              precision    recall  f1-score   support\\n\\n       False       1.00      1.00      1.00     15395\\n        True       1.00      1.00      1.00     19693\\n\\n    accuracy                           1.00     35088\\n   macro avg       1.00      1.00      1.00     35088\\nweighted avg       1.00      1.00      1.00     35088\\n'"
            ],
            "application/vnd.google.colaboratory.intrinsic+json": {
              "type": "string"
            }
          },
          "metadata": {},
          "execution_count": 73
        }
      ]
    },
    {
      "cell_type": "code",
      "source": [
        "cm = confusion_matrix(y_test,y_pred)\n",
        "sns.heatmap(cm, annot=True)\n",
        "plt.show()"
      ],
      "metadata": {
        "colab": {
          "base_uri": "https://localhost:8080/",
          "height": 430
        },
        "id": "7ut8WiKIl3QC",
        "outputId": "5281451a-4207-461a-e115-48aa9fc8cba3"
      },
      "execution_count": null,
      "outputs": [
        {
          "output_type": "display_data",
          "data": {
            "text/plain": [
              "<Figure size 640x480 with 2 Axes>"
            ],
            "image/png": "[encoded data removed]"
          },
          "metadata": {}
        }
      ]
    },
    {
      "cell_type": "code",
      "source": [
        "print(X.shape)\n"
      ],
      "metadata": {
        "colab": {
          "base_uri": "https://localhost:8080/"
        },
        "id": "xtenkywMrmSj",
        "outputId": "62785463-2f79-4e4d-ea83-1bcbad931f46"
      },
      "execution_count": null,
      "outputs": [
        {
          "output_type": "stream",
          "name": "stdout",
          "text": [
            "(175436,)\n"
          ]
        }
      ]
    },
    {
      "cell_type": "code",
      "source": [
        "if X.ndim == 1:\n",
        "    X = X.reshape(-1, 1)\n"
      ],
      "metadata": {
        "id": "zFjKKenMroFs"
      },
      "execution_count": null,
      "outputs": []
    },
    {
      "cell_type": "code",
      "source": [
        "from sklearn.cluster import KMeans\n",
        "\n",
        "kmeans = KMeans(n_clusters=2, init='k-means++', max_iter=300, n_init=10, random_state=42)\n",
        "y_kmeans = kmeans.fit_predict(X)\n"
      ],
      "metadata": {
        "id": "ZesdnvBBroTM"
      },
      "execution_count": null,
      "outputs": []
    },
    {
      "cell_type": "code",
      "source": [
        "X"
      ],
      "metadata": {
        "colab": {
          "base_uri": "https://localhost:8080/"
        },
        "id": "pCjMvRyEmw9w",
        "outputId": "307ce9d2-dcd6-4b36-a379-6ab0105076d6"
      },
      "execution_count": null,
      "outputs": [
        {
          "output_type": "execute_result",
          "data": {
            "text/plain": [
              "array([[0.        ],\n",
              "       [0.78019132],\n",
              "       [0.67500859],\n",
              "       ...,\n",
              "       [0.65855226],\n",
              "       [0.43877137],\n",
              "       [0.66273031]])"
            ]
          },
          "metadata": {},
          "execution_count": 79
        }
      ]
    },
    {
      "cell_type": "code",
      "source": [
        "#Scatter plot with a single feature\n",
        "from sklearn.cluster import KMeans\n",
        "\n",
        "# Example data with a single feature\n",
        "X = np.random.rand(100, 1)\n",
        "\n",
        "# Fit and predict with KMeans\n",
        "kmeans = KMeans(n_clusters=2, init='k-means++', max_iter=300, n_init=10, random_state=42)\n",
        "y_kmeans = kmeans.fit_predict(X)\n",
        "\n",
        "# Scatter plot with a single feature\n",
        "plt.scatter(X[y_kmeans == 0], np.zeros_like(X[y_kmeans == 0]), s=100, c='red', label='Cluster 1')\n",
        "plt.scatter(X[y_kmeans == 1], np.zeros_like(X[y_kmeans == 1]), s=100, c='blue', label='Cluster 2')\n",
        "plt.xlabel('Feature 1')\n",
        "plt.ylabel('Value (Constant Zero)')\n",
        "plt.legend()\n",
        "plt.title('KMeans Clustering with a Single Feature')\n",
        "plt.show()\n"
      ],
      "metadata": {
        "colab": {
          "base_uri": "https://localhost:8080/",
          "height": 472
        },
        "id": "AAI4vBG-rx9W",
        "outputId": "dc49817a-1031-46d0-9d07-f4f74d858660"
      },
      "execution_count": null,
      "outputs": [
        {
          "output_type": "display_data",
          "data": {
            "text/plain": [
              "<Figure size 640x480 with 1 Axes>"
            ],
            "image/png": "[encoded data removed]"
          },
          "metadata": {}
        }
      ]
    },
    {
      "cell_type": "code",
      "source": [
        "# OR\n",
        "#Using PCA for dimensionality reduction\n",
        "from sklearn.cluster import KMeans\n",
        "from sklearn.decomposition import PCA\n",
        "\n",
        "# Example data with multiple features\n",
        "X = np.random.rand(100, 5)  # Assuming multiple features for demonstration\n",
        "\n",
        "# Fit and predict with KMeans\n",
        "kmeans = KMeans(n_clusters=2, init='k-means++', max_iter=300, n_init=10, random_state=42)\n",
        "y_kmeans = kmeans.fit_predict(X)\n",
        "\n",
        "# Reduce to 2D using PCA\n",
        "pca = PCA(n_components=2)\n",
        "X_pca = pca.fit_transform(X)\n",
        "\n",
        "# Scatter plot with PCA-reduced features\n",
        "plt.scatter(X_pca[y_kmeans == 0, 0], X_pca[y_kmeans == 0, 1], s=100, c='red', label='Cluster 1')\n",
        "plt.scatter(X_pca[y_kmeans == 1, 0], X_pca[y_kmeans == 1, 1], s=100, c='blue', label='Cluster 2')\n",
        "plt.xlabel('PCA Feature 1')\n",
        "plt.ylabel('PCA Feature 2')\n",
        "plt.legend()\n",
        "plt.title('KMeans Clustering with PCA')\n",
        "plt.show()\n"
      ],
      "metadata": {
        "colab": {
          "base_uri": "https://localhost:8080/",
          "height": 472
        },
        "id": "WEAjOr4osToN",
        "outputId": "6f13a47c-803f-438c-f303-2cf6b2d9697d"
      },
      "execution_count": null,
      "outputs": [
        {
          "output_type": "display_data",
          "data": {
            "text/plain": [
              "<Figure size 640x480 with 1 Axes>"
            ],
            "image/png": "[encoded data removed]"
          },
          "metadata": {}
        }
      ]
    }
  ]
}